{
 "cells": [
  {
   "cell_type": "code",
   "execution_count": null,
   "metadata": {},
   "outputs": [],
   "source": [
    "#clone the GTSRB dataset\n",
    "!git clone https://bitbucket.org/jadslim/german-traffic-signs"
   ]
  },
  {
   "cell_type": "code",
   "execution_count": null,
   "metadata": {},
   "outputs": [],
   "source": [
    "#listing the contents of the dataset\n",
    "!ls german-traffic-signs/"
   ]
  },
  {
   "cell_type": "code",
   "execution_count": null,
   "metadata": {},
   "outputs": [],
   "source": [
    "#load the csv file\n",
    "import pandas as pd\n",
    "df = pd.read_csv('german-traffic-signs/signnames.csv')\n",
    "df.head(5)"
   ]
  },
  {
   "cell_type": "code",
   "execution_count": null,
   "metadata": {},
   "outputs": [],
   "source": [
    "#importing packages \n",
    "import keras\n",
    "from keras.models import Sequential\n",
    "from keras.layers import Dense, Flatten, Dropout\n",
    "from keras.layers.convolutional import Conv2D, MaxPooling2D\n",
    "from keras.utils.np_utils import to_categorical\n",
    "from keras.optimizers import Adam\n",
    "import matplotlib.pyplot as plt\n",
    "import numpy as np\n",
    "import pickle\n",
    "import random \n",
    "import pandas as pd\n",
    "import cv2"
   ]
  },
  {
   "cell_type": "code",
   "execution_count": null,
   "metadata": {},
   "outputs": [],
   "source": [
    "#load train,test and validation datasets\n",
    "np.random.seed(0)\n",
    "with open('german-traffic-signs/train.p', 'rb') as f:\n",
    "    train_data = pickle.load(f)\n",
    "with open('german-traffic-signs/test.p', 'rb') as f:\n",
    "    test_data = pickle.load(f)\n",
    "with open('german-traffic-signs/valid.p', 'rb') as f:\n",
    "    valid_data = pickle.load(f)"
   ]
  },
  {
   "cell_type": "code",
   "execution_count": null,
   "metadata": {},
   "outputs": [],
   "source": [
    "train_x, train_y = train_data['features'],train_data['labels']\n",
    "val_x, val_y = valid_data['features'],valid_data['labels']\n",
    "test_x,test_y = test_data['features'],test_data['labels']\n",
    "\n",
    "print('Train data shape',train_x.shape,'Train data label',train_y.shape)\n",
    "print('Test data shape',test_x.shape,'Test data label',test_y.shape)\n",
    "print('valid data shape',val_x.shape,'Valid data label',val_y.shape)"
   ]
  },
  {
   "cell_type": "code",
   "execution_count": null,
   "metadata": {},
   "outputs": [],
   "source": [
    "#getting number of samples from each class in training dataset\n",
    "import os\n",
    "num_samples = []\n",
    "for i in range(len(df)):\n",
    "    file_count = len(os.listdir('GTSRB/Train/'+str(i)+'/'))\n",
    "    num_samples.append(file_count)\n",
    "print(len(num_samples))"
   ]
  },
  {
   "cell_type": "code",
   "execution_count": null,
   "metadata": {},
   "outputs": [],
   "source": [
    "print(num_samples)"
   ]
  },
  {
   "cell_type": "code",
   "execution_count": null,
   "metadata": {},
   "outputs": [],
   "source": [
    "# plot the distrubution of the number of samples from each class in training dataset\n",
    "plt.figure(figsize=(12,4))\n",
    "plt.bar(range(0, len(df)), num_samples)\n",
    "plt.title('distribution of the dataset')\n",
    "plt.xlabel('class_labels')\n",
    "plt.ylabel('number of images')\n",
    "plt.show()"
   ]
  },
  {
   "cell_type": "code",
   "execution_count": null,
   "metadata": {},
   "outputs": [],
   "source": [
    "plt.imshow(train_x[3000])"
   ]
  },
  {
   "cell_type": "code",
   "execution_count": null,
   "metadata": {},
   "outputs": [],
   "source": [
    "# Converting the image into grayscale\n",
    "def grayscale(image):\n",
    "    image = cv2.cvtColor(image,cv2.COLOR_BGR2GRAY)\n",
    "    return image\n",
    "\n",
    "img = grayscale(train_x[3000])\n",
    "plt.imshow(img, cmap = plt.get_cmap('gray'))"
   ]
  },
  {
   "cell_type": "code",
   "execution_count": null,
   "metadata": {},
   "outputs": [],
   "source": [
    "# Using  histogram equalization technique to standardize contrast/light in all images\n",
    "def equalize(image):\n",
    "    image = cv2.equalizeHist(image)\n",
    "    return image\n",
    "img = equalize(img)\n",
    "plt.imshow(img, cmap=plt.get_cmap('gray'))"
   ]
  },
  {
   "cell_type": "code",
   "execution_count": null,
   "metadata": {},
   "outputs": [],
   "source": [
    "def processing(image):\n",
    "    gray_img = grayscale(image)\n",
    "    img = equalize(gray_img) \n",
    "    img = img/255\n",
    "    return img"
   ]
  },
  {
   "cell_type": "code",
   "execution_count": null,
   "metadata": {},
   "outputs": [],
   "source": [
    "#Convert all train, test and validation dataset to grayscale & histogram technique\n",
    "\n",
    "train_x = np.asarray(list(map(processing, train_x)))\n",
    "val_x = np.asarray(list(map(processing, val_x)))\n",
    "test_x = np.asarray(list(map(processing, test_x)))"
   ]
  },
  {
   "cell_type": "code",
   "execution_count": null,
   "metadata": {},
   "outputs": [],
   "source": [
    "plt.imshow(train_x[random.randint(0, len(train_x-1))],cmap=plt.get_cmap('gray'))"
   ]
  },
  {
   "cell_type": "code",
   "execution_count": null,
   "metadata": {},
   "outputs": [],
   "source": [
    "train_x.shape[0]"
   ]
  },
  {
   "cell_type": "code",
   "execution_count": null,
   "metadata": {},
   "outputs": [],
   "source": [
    "# Reshape data to 3 dimensional\n",
    "# train_x.shape[0] -> number of images\n",
    "# train_x.shape[1] -> height\n",
    "# train_x.shape[2] -> width\n",
    "# 1 -> dimension of the image and 1 denotes grayscale image and for RGB it is 3\n",
    "\n",
    "train_x = train_x.reshape(train_x.shape[0],train_x.shape[1],train_x.shape[2],1)\n",
    "val_x = val_x.reshape(val_x.shape[0],val_x.shape[1],val_x.shape[2],1)\n",
    "test_x = test_x.reshape(test_x.shape[0],test_x.shape[1],test_x.shape[2],1)\n"
   ]
  },
  {
   "cell_type": "code",
   "execution_count": null,
   "metadata": {},
   "outputs": [],
   "source": [
    "# Generate some datasets with different angles using Keras Imagedatagenerator\n",
    "\n",
    "from keras.preprocessing.image import ImageDataGenerator\n",
    "datagen = ImageDataGenerator(width_shift_range=0.1,\n",
    "                            height_shift_range=0.1,\n",
    "                            zoom_range=0.2,\n",
    "                            shear_range=0.1,\n",
    "                            rotation_range=10.)\n",
    "datagen.fit(train_x)\n",
    "#batches = datagen.flow(train_x,train_y,batch_size=15)\n"
   ]
  },
  {
   "cell_type": "code",
   "execution_count": null,
   "metadata": {},
   "outputs": [],
   "source": [
    "# One-hot encode the labels\n",
    "\n",
    "train_y = to_categorical(train_y,43)\n",
    "test_y = to_categorical(test_y,43)\n",
    "val_y = to_categorical(val_y,43)"
   ]
  },
  {
   "cell_type": "code",
   "execution_count": null,
   "metadata": {},
   "outputs": [],
   "source": [
    "#Define the model\n",
    "\n",
    "from keras.layers import ReLU\n",
    "def build_model():\n",
    "    model = Sequential()\n",
    "    model.add(Conv2D(60,(5,5),input_shape=(train_x.shape[1],train_x.shape[2],train_x.shape[3])))\n",
    "    model.add(ReLU())\n",
    "    model.add(Conv2D(60,(5,5)))\n",
    "    model.add(ReLU())\n",
    "    model.add(MaxPooling2D(pool_size=(2,2)))\n",
    "    \n",
    "    model.add(Conv2D(30,(3,3)))\n",
    "    model.add(ReLU())\n",
    "    model.add(Conv2D(30,(3,3)))\n",
    "    model.add(ReLU())\n",
    "    model.add(MaxPooling2D(pool_size=(2,2)))\n",
    "    \n",
    "    model.add(Flatten())\n",
    "    model.add(Dense(500,activation='relu'))\n",
    "    model.add(Dropout(0.5))\n",
    "    model.add(Dense(len(df['ClassId']),activation='softmax'))\n",
    "    \n",
    "    model.compile(Adam(lr=0.001), loss=\"categorical_crossentropy\",metrics=[\"accuracy\"])\n",
    "    return model\n",
    "    "
   ]
  },
  {
   "cell_type": "code",
   "execution_count": null,
   "metadata": {},
   "outputs": [],
   "source": [
    "model = build_model()\n",
    "print(model.summary())"
   ]
  },
  {
   "attachments": {},
   "cell_type": "markdown",
   "metadata": {},
   "source": []
  },
  {
   "cell_type": "code",
   "execution_count": null,
   "metadata": {},
   "outputs": [],
   "source": [
    "#train and save the model\n",
    "history = model.fit_generator(datagen.flow(train_x,train_y,batch_size=64),\n",
    "                             steps_per_epoch=150,\n",
    "                             epochs=28,\n",
    "                             validation_data=(val_x,val_y),shuffle=1)\n",
    "# Save the trained model\n",
    "model.save('model.h5')\n"
   ]
  },
  {
   "attachments": {},
   "cell_type": "markdown",
   "metadata": {},
   "source": [
    "###### able to achieve 92% accuracy"
   ]
  },
  {
   "cell_type": "code",
   "execution_count": null,
   "metadata": {},
   "outputs": [],
   "source": [
    "plt.plot(history.history['loss'])\n",
    "plt.plot(history.history['val_loss'])\n",
    "plt.legend(['training','validation'])\n",
    "plt.title('Model loss')\n",
    "plt.xlabel('epoch')\n",
    "plt.ylabel('loss')"
   ]
  },
  {
   "cell_type": "code",
   "execution_count": null,
   "metadata": {},
   "outputs": [
    {
     "ename": "",
     "evalue": "",
     "output_type": "error",
     "traceback": [
      "\u001b[1;31mThe Kernel crashed while executing code in the the current cell or a previous cell. Please review the code in the cell(s) to identify a possible cause of the failure. Click <a href='https://aka.ms/vscodeJupyterKernelCrash'>here</a> for more info. View Jupyter <a href='command:jupyter.viewOutput'>log</a> for further details."
     ]
    }
   ],
   "source": [
    "\n",
    "# Evaluate model on test data\n",
    "from sklearn.metrics import precision_recall_fscore_support\n",
    "\n",
    "\n",
    "score = model.evaluate(test_x, test_y, verbose=0)\n",
    "test_loss = score[0]\n",
    "test_accuracy = score[1]\n",
    "\n",
    "# Make predictions on test data\n",
    "y_pred = model.predict(test_x)\n",
    "y_pred_bool = np.argmax(y_pred, axis=1)\n",
    "\n",
    "# Calculate precision, recall and f1-score\n",
    "precision, recall, f1_score, _ = precision_recall_fscore_support(np.argmax(test_y, axis=1), y_pred_bool, average='weighted')\n",
    "\n",
    "print(\"Test loss:\", test_loss)\n",
    "print(\"Test accuracy:\", test_accuracy)\n",
    "print(\"Test precision:\", precision)\n",
    "print(\"Test recall:\", recall)\n",
    "print(\"Test F1-score:\", f1_score)\n",
    "\n",
    "# Plot accuracy, precision and recall over epochs\n",
    "plt.plot(history.history['accuracy'])\n",
    "plt.plot(history.history['val_accuracy'])\n",
    "# plt.plot(history.history['precision'])\n",
    "# plt.plot(history.history['recall'])\n",
    "plt.title('Model Performance')\n",
    "plt.ylabel('Performance')\n",
    "plt.xlabel('Epoch')\n",
    "plt.legend(['train_accuracy', 'val_accuracy', 'precision', 'recall'], loc='lower right')\n",
    "plt.show()\n"
   ]
  },
  {
   "cell_type": "code",
   "execution_count": null,
   "metadata": {},
   "outputs": [],
   "source": [
    "history = model.fit(train_x, train_y, epochs=10, validation_data=(val_x, val_y))\n"
   ]
  },
  {
   "cell_type": "code",
   "execution_count": null,
   "metadata": {},
   "outputs": [],
   "source": [
    "import requests\n",
    "from PIL import Image\n",
    "url = 'https://c8.alamy.com/comp/A0RX23/cars-and-automobiles-must-turn-left-ahead-sign-A0RX23.jpg'\n",
    "r = requests.get(url, stream=True)\n",
    "img = Image.open(r.raw)\n",
    "plt.imshow(img)"
   ]
  },
  {
   "cell_type": "code",
   "execution_count": null,
   "metadata": {},
   "outputs": [],
   "source": [
    "img = np.asarray(img)\n",
    "img = cv2.resize(img,(32,32))\n",
    "img = processing(img)\n",
    "plt.imshow(img, cmap=plt.get_cmap('gray'))"
   ]
  },
  {
   "cell_type": "code",
   "execution_count": null,
   "metadata": {},
   "outputs": [],
   "source": [
    "df.columns"
   ]
  },
  {
   "cell_type": "code",
   "execution_count": null,
   "metadata": {},
   "outputs": [],
   "source": [
    "img = img.reshape(1,32,32,1)\n",
    "label = model.predict_classes(img)\n",
    "print('Predicted class is ',str(label))\n",
    "print('The traffic sign is ',df['SignName'][int(label)])"
   ]
  },
  {
   "attachments": {},
   "cell_type": "markdown",
   "metadata": {},
   "source": []
  }
 ],
 "metadata": {
  "kernelspec": {
   "display_name": "Python 3",
   "language": "python",
   "name": "python3"
  },
  "language_info": {
   "codemirror_mode": {
    "name": "ipython",
    "version": 3
   },
   "file_extension": ".py",
   "mimetype": "text/x-python",
   "name": "python",
   "nbconvert_exporter": "python",
   "pygments_lexer": "ipython3",
   "version": "3.10.7"
  }
 },
 "nbformat": 4,
 "nbformat_minor": 2
}
